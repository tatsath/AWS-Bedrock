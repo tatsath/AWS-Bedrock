{
 "cells": [
  {
   "cell_type": "code",
   "execution_count": 10,
   "id": "6440fa7a-3037-410a-ba9a-1d913ad86589",
   "metadata": {},
   "outputs": [],
   "source": [
    "# 📄 Title: Word Document Generator from Template (Jupyter Notebook Version)\n",
    "\n",
    "# --- Step 1: Install Required Packages ---\n",
    "# (Uncomment below lines if not already installed)\n",
    "\n",
    "# !pip install docxtpl\n",
    "# !pip install ipywidgets\n",
    "\n",
    "\n",
    "# --- Step 2: Import Libraries ---\n",
    "\n",
    "from docxtpl import DocxTemplate\n",
    "import ipywidgets as widgets\n",
    "from IPython.display import display\n",
    "import os"
   ]
  },
  {
   "cell_type": "code",
   "execution_count": 11,
   "id": "7e4abfba-82b3-4750-ad30-9b843afdd0e3",
   "metadata": {},
   "outputs": [
    {
     "name": "stdout",
     "output_type": "stream",
     "text": [
      "Upload your DOCX template:\n"
     ]
    },
    {
     "data": {
      "application/vnd.jupyter.widget-view+json": {
       "model_id": "8346a370762f4f56913dfcac23a29a63",
       "version_major": 2,
       "version_minor": 0
      },
      "text/plain": [
       "FileUpload(value=(), accept='.docx', description='Upload')"
      ]
     },
     "metadata": {},
     "output_type": "display_data"
    }
   ],
   "source": [
    "# --- Step 3: Upload the Template File ---\n",
    "\n",
    "uploader = widgets.FileUpload(accept='.docx', multiple=False)\n",
    "\n",
    "print(\"Upload your DOCX template:\")\n",
    "display(uploader)\n",
    "\n",
    "def save_uploaded_template(uploaded_file, save_path=\"uploaded_template.docx\"):\n",
    "    value = uploaded_file.value\n",
    "    if isinstance(value, dict):\n",
    "        for filename, fileinfo in value.items():\n",
    "            with open(save_path, 'wb') as f:\n",
    "                f.write(fileinfo['content'])\n",
    "    elif isinstance(value, tuple):\n",
    "        for fileinfo in value:\n",
    "            with open(save_path, 'wb') as f:\n",
    "                f.write(fileinfo['content'])\n",
    "    else:\n",
    "        raise ValueError(\"Unknown uploaded_file.value type: {}\".format(type(value)))\n",
    "\n",
    "# --- Step 4: Fill the Sections Dynamically ---\n",
    "\n",
    "def generate_filled_doc(template_path, output_path, section_content):\n",
    "    doc = DocxTemplate(template_path)\n",
    "    doc.render(section_content)\n",
    "    doc.save(output_path)\n",
    "    print(f\"Generated document saved at: {output_path}\")\n",
    "\n",
    "\n",
    "# --- Step 5: Define Content for Sections ---\n",
    "\n",
    "section_content = {\n",
    "    'introduction': \"This is a dynamically filled Introduction.\",\n",
    "    'analysis': \"This section contains the detailed Analysis.\",\n",
    "    'summary': \"Here is the final Summary and Recommendations.\"\n",
    "}"
   ]
  },
  {
   "cell_type": "code",
   "execution_count": 13,
   "id": "e2ecc768-04ab-468c-b3e9-584038ff683a",
   "metadata": {},
   "outputs": [
    {
     "name": "stdout",
     "output_type": "stream",
     "text": [
      "Generated document saved at: final_generated_doc.docx\n"
     ]
    }
   ],
   "source": [
    "# --- Step 6: Run After Upload ---\n",
    "\n",
    "# NOTE: After uploading file manually trigger this block\n",
    "if uploader.value:\n",
    "    save_uploaded_template(uploader)\n",
    "    generate_filled_doc(\"uploaded_template.docx\", \"final_generated_doc.docx\", section_content)\n",
    "else:\n",
    "    print(\"⏳ Waiting for file upload...\")\n",
    "\n",
    "\n",
    "# --- Final Note ---\n",
    "# Make sure your template .docx file contains placeholders like {{ introduction }}, {{ analysis }}, {{ summary }}\n",
    "# Example in Word:\n",
    "#    Heading: Introduction\n",
    "#    Body: {{ introduction }}\n",
    "#    Heading: Analysis\n",
    "#    Body: {{ analysis }}\n",
    "#    Heading: Summary\n",
    "#    Body: {{ summary }}"
   ]
  },
  {
   "cell_type": "code",
   "execution_count": null,
   "id": "24b67b90-7e61-4e10-9126-fd7d28210705",
   "metadata": {},
   "outputs": [],
   "source": []
  }
 ],
 "metadata": {
  "kernelspec": {
   "display_name": "ecc",
   "language": "python",
   "name": "python3"
  },
  "language_info": {
   "codemirror_mode": {
    "name": "ipython",
    "version": 3
   },
   "file_extension": ".py",
   "mimetype": "text/x-python",
   "name": "python",
   "nbconvert_exporter": "python",
   "pygments_lexer": "ipython3",
   "version": "3.10.17"
  }
 },
 "nbformat": 4,
 "nbformat_minor": 5
}
